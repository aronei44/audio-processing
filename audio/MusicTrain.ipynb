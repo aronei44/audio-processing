{
 "cells": [
  {
   "cell_type": "code",
   "execution_count": 47,
   "metadata": {},
   "outputs": [],
   "source": [
    "import torch\n",
    "device = torch.device(\"cuda\" if torch.cuda.is_available() else \"cpu\")"
   ]
  },
  {
   "cell_type": "code",
   "execution_count": 48,
   "metadata": {},
   "outputs": [],
   "source": [
    "import os\n",
    "from UrbanSoundDataset import UrbanSoundDataset\n",
    "from FeedForward import CNNNetwork\n",
    "import torchaudio\n",
    "from torch.utils.data import DataLoader\n",
    "from torch import nn\n",
    "from datetime import datetime"
   ]
  },
  {
   "cell_type": "code",
   "execution_count": 49,
   "metadata": {},
   "outputs": [],
   "source": [
    "ANNOTATION_FILE = \"./data/UrbanSound8K/metadata/UrbanSound8K.csv\"\n",
    "AUDIO_DIR = os.path.join(\"data\", \"UrbanSound8K\", \"audio\")\n",
    "SAMPLE_RATE = 22050\n",
    "NUM_SAMPLES = 22050\n",
    "BATCH_SIZE = 128\n",
    "EPOCHS = 10\n",
    "LEARNING_RATE = 0.001"
   ]
  },
  {
   "cell_type": "code",
   "execution_count": 50,
   "metadata": {},
   "outputs": [],
   "source": [
    "mel_spectrogram = torchaudio.transforms.MelSpectrogram(\n",
    "    sample_rate=SAMPLE_RATE,\n",
    "    n_fft=1024,\n",
    "    hop_length=512,\n",
    "    n_mels=64\n",
    ")"
   ]
  },
  {
   "cell_type": "code",
   "execution_count": 51,
   "metadata": {},
   "outputs": [],
   "source": [
    "usd = UrbanSoundDataset(ANNOTATION_FILE, AUDIO_DIR, mel_spectrogram, SAMPLE_RATE, NUM_SAMPLES, device)\n",
    "cnn = CNNNetwork().to(device)\n",
    "loss_function = nn.CrossEntropyLoss()\n",
    "optimizer = torch.optim.Adam(cnn.parameters(), lr=LEARNING_RATE)"
   ]
  },
  {
   "cell_type": "code",
   "execution_count": 52,
   "metadata": {},
   "outputs": [
    {
     "name": "stdout",
     "output_type": "stream",
     "text": [
      "----------------------------------------------------------------\n",
      "        Layer (type)               Output Shape         Param #\n",
      "================================================================\n",
      "            Conv2d-1           [-1, 16, 66, 46]             160\n",
      "              ReLU-2           [-1, 16, 66, 46]               0\n",
      "         MaxPool2d-3           [-1, 16, 33, 23]               0\n",
      "           Dropout-4           [-1, 16, 33, 23]               0\n",
      "            Conv2d-5           [-1, 32, 35, 25]           4,640\n",
      "              ReLU-6           [-1, 32, 35, 25]               0\n",
      "         MaxPool2d-7           [-1, 32, 17, 12]               0\n",
      "           Dropout-8           [-1, 32, 17, 12]               0\n",
      "            Conv2d-9           [-1, 64, 19, 14]          18,496\n",
      "             ReLU-10           [-1, 64, 19, 14]               0\n",
      "        MaxPool2d-11             [-1, 64, 9, 7]               0\n",
      "          Dropout-12             [-1, 64, 9, 7]               0\n",
      "           Conv2d-13           [-1, 128, 11, 9]          73,856\n",
      "             ReLU-14           [-1, 128, 11, 9]               0\n",
      "        MaxPool2d-15            [-1, 128, 5, 4]               0\n",
      "          Dropout-16            [-1, 128, 5, 4]               0\n",
      "          Flatten-17                 [-1, 2560]               0\n",
      "           Linear-18                   [-1, 10]          25,610\n",
      "          Softmax-19                   [-1, 10]               0\n",
      "================================================================\n",
      "Total params: 122,762\n",
      "Trainable params: 122,762\n",
      "Non-trainable params: 0\n",
      "----------------------------------------------------------------\n",
      "Input size (MB): 0.01\n",
      "Forward/backward pass size (MB): 2.03\n",
      "Params size (MB): 0.47\n",
      "Estimated Total Size (MB): 2.51\n",
      "----------------------------------------------------------------\n"
     ]
    }
   ],
   "source": [
    "from torchsummary import summary\n",
    "summary(cnn, input_size=(1, 64, 44))"
   ]
  },
  {
   "cell_type": "code",
   "execution_count": 53,
   "metadata": {},
   "outputs": [],
   "source": [
    "def create_data_loader(data, batch_size):\n",
    "    dataloader = DataLoader(data, batch_size=batch_size)\n",
    "    return dataloader"
   ]
  },
  {
   "cell_type": "code",
   "execution_count": 54,
   "metadata": {},
   "outputs": [],
   "source": [
    "train_dataloader = create_data_loader(usd, BATCH_SIZE)"
   ]
  },
  {
   "cell_type": "code",
   "execution_count": 55,
   "metadata": {},
   "outputs": [],
   "source": [
    "def train_one_epoch(model, data_loader, loss_function, optimizer, device):\n",
    "    acc = 0\n",
    "    for inputs, targets in data_loader:\n",
    "        inputs = inputs.to(device)\n",
    "        targets = targets.to(device)\n",
    "        # calculate loss\n",
    "        predictions = model(inputs)\n",
    "        loss = loss_function(predictions, targets)\n",
    "        # backpropagate error and update weights\n",
    "        optimizer.zero_grad()\n",
    "        loss.backward()\n",
    "        optimizer.step()\n",
    "        # calculate accuracy\n",
    "        acc += (predictions.argmax(1) == targets).sum().item()\n",
    "    return acc / len(data_loader.dataset)"
   ]
  },
  {
   "cell_type": "code",
   "execution_count": 58,
   "metadata": {},
   "outputs": [],
   "source": [
    "def train(model, train_data, loss_function, optimizer, device):\n",
    "    tac = []\n",
    "    i = 0\n",
    "    patience = 0\n",
    "    scr = 0\n",
    "    start_time = datetime.now()\n",
    "    while True:\n",
    "        i+=1\n",
    "        print(f\"\\nEpoch : {i:4} | \", end=\" \")\n",
    "        train_acc = train_one_epoch(model, train_data, loss_function, optimizer, device)\n",
    "        tac.append(train_acc)\n",
    "\n",
    "        print(f\"train acc : {train_acc:.4f} | patience : {patience} | best acc : {scr:.4f}\", end=\" \") \n",
    "        if train_acc > scr:\n",
    "            scr = train_acc\n",
    "            patience = 0\n",
    "            torch.save(model.state_dict(), \"models/cnn.pth\")\n",
    "            log = {\n",
    "            \"train_acc\": tac,\n",
    "            }\n",
    "            torch.save(log, \"models/logs.pth\")\n",
    "        else:\n",
    "            patience +=1\n",
    "\n",
    "        if patience >= 5:\n",
    "            break\n",
    "    end_time = datetime.now()\n",
    "    print(f\"\\nTraining completed in {(end_time-start_time).seconds} seconds\")"
   ]
  },
  {
   "cell_type": "code",
   "execution_count": 60,
   "metadata": {},
   "outputs": [
    {
     "name": "stdout",
     "output_type": "stream",
     "text": [
      "\n",
      "Epoch :    1 |  train acc : 0.1992 | patience : 0 | best acc : 0.0000 \n",
      "Epoch :    2 |  train acc : 0.1690 | patience : 0 | best acc : 0.1992 \n",
      "Epoch :    3 |  train acc : 0.2043 | patience : 1 | best acc : 0.1992 \n",
      "Epoch :    4 |  train acc : 0.2044 | patience : 0 | best acc : 0.2043 \n",
      "Epoch :    5 |  train acc : 0.2060 | patience : 0 | best acc : 0.2044 \n",
      "Epoch :    6 |  train acc : 0.1513 | patience : 0 | best acc : 0.2060 \n",
      "Epoch :    7 |  train acc : 0.1443 | patience : 1 | best acc : 0.2060 \n",
      "Epoch :    8 |  train acc : 0.1533 | patience : 2 | best acc : 0.2060 \n",
      "Epoch :    9 |  train acc : 0.1528 | patience : 3 | best acc : 0.2060 \n",
      "Epoch :   10 |  train acc : 0.1536 | patience : 4 | best acc : 0.2060 \n",
      "Training completed in 414 seconds\n"
     ]
    }
   ],
   "source": [
    "train(cnn, train_dataloader, loss_function, optimizer, device)"
   ]
  },
  {
   "cell_type": "code",
   "execution_count": null,
   "metadata": {},
   "outputs": [],
   "source": []
  }
 ],
 "metadata": {
  "kernelspec": {
   "display_name": "venv",
   "language": "python",
   "name": "python3"
  },
  "language_info": {
   "codemirror_mode": {
    "name": "ipython",
    "version": 3
   },
   "file_extension": ".py",
   "mimetype": "text/x-python",
   "name": "python",
   "nbconvert_exporter": "python",
   "pygments_lexer": "ipython3",
   "version": "3.10.11"
  }
 },
 "nbformat": 4,
 "nbformat_minor": 2
}
